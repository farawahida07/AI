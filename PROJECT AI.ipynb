{
 "cells": [
  {
   "cell_type": "markdown",
   "id": "2f92452c",
   "metadata": {},
   "source": [
    "### DATA IMPORT"
   ]
  },
  {
   "cell_type": "code",
   "execution_count": 4,
   "id": "fe58c486",
   "metadata": {},
   "outputs": [],
   "source": [
    "#import the reqired libraries\n",
    "from IPython.core.interactiveshell import InteractiveShell\n",
    "InteractiveShell.ast_node_interactivity = \"all\"\n",
    "import numpy as np\n",
    "import pandas as pd\n",
    "import math\n",
    "import json\n",
    "import time\n",
    "import matplotlib.pyplot as plt\n",
    "import seaborn as sns"
   ]
  },
  {
   "cell_type": "code",
   "execution_count": 5,
   "id": "c039fcbe",
   "metadata": {},
   "outputs": [],
   "source": [
    "from sklearn import *"
   ]
  },
  {
   "cell_type": "code",
   "execution_count": 6,
   "id": "38b61ab5",
   "metadata": {},
   "outputs": [],
   "source": [
    "from sklearn.metrics.pairwise import cosine_similarity\n",
    "from sklearn.model_selection import train_test_split\n",
    "from sklearn.neighbors import NearestNeighbors"
   ]
  },
  {
   "cell_type": "code",
   "execution_count": 7,
   "id": "121a8ce2",
   "metadata": {},
   "outputs": [],
   "source": [
    "#from sklearn.externals import joblib"
   ]
  },
  {
   "cell_type": "code",
   "execution_count": 8,
   "id": "a472323c",
   "metadata": {},
   "outputs": [],
   "source": [
    "import scipy.sparse\n",
    "from scipy.sparse import csr_matrix\n",
    "from scipy.sparse.linalg import svds\n",
    "import warnings; warnings.simplefilter('ignore')\n",
    "%matplotlib inline"
   ]
  },
  {
   "cell_type": "code",
   "execution_count": 9,
   "id": "1e304be6",
   "metadata": {
    "scrolled": true
   },
   "outputs": [
    {
     "ename": "FileNotFoundError",
     "evalue": "[Errno 2] No such file or directory: 'Datafiniti_Amazon_Consumer_Reviews_of_Amazon_Products.csv'",
     "output_type": "error",
     "traceback": [
      "\u001b[1;31m---------------------------------------------------------------------------\u001b[0m",
      "\u001b[1;31mFileNotFoundError\u001b[0m                         Traceback (most recent call last)",
      "\u001b[1;32m~\\AppData\\Local\\Temp\\ipykernel_16620\\2190431291.py\u001b[0m in \u001b[0;36m<module>\u001b[1;34m\u001b[0m\n\u001b[1;32m----> 1\u001b[1;33m \u001b[0moldDt\u001b[0m\u001b[1;33m=\u001b[0m\u001b[0mpd\u001b[0m\u001b[1;33m.\u001b[0m\u001b[0mread_csv\u001b[0m\u001b[1;33m(\u001b[0m\u001b[1;34m\"Datafiniti_Amazon_Consumer_Reviews_of_Amazon_Products.csv\"\u001b[0m\u001b[1;33m)\u001b[0m\u001b[1;33m\u001b[0m\u001b[1;33m\u001b[0m\u001b[0m\n\u001b[0m\u001b[0;32m      2\u001b[0m \u001b[0moldDt\u001b[0m\u001b[1;33m.\u001b[0m\u001b[0mhead\u001b[0m\u001b[1;33m(\u001b[0m\u001b[1;36m5\u001b[0m\u001b[1;33m)\u001b[0m\u001b[1;33m\u001b[0m\u001b[1;33m\u001b[0m\u001b[0m\n",
      "\u001b[1;32m~\\anaconda3\\lib\\site-packages\\pandas\\util\\_decorators.py\u001b[0m in \u001b[0;36mwrapper\u001b[1;34m(*args, **kwargs)\u001b[0m\n\u001b[0;32m    309\u001b[0m                     \u001b[0mstacklevel\u001b[0m\u001b[1;33m=\u001b[0m\u001b[0mstacklevel\u001b[0m\u001b[1;33m,\u001b[0m\u001b[1;33m\u001b[0m\u001b[1;33m\u001b[0m\u001b[0m\n\u001b[0;32m    310\u001b[0m                 )\n\u001b[1;32m--> 311\u001b[1;33m             \u001b[1;32mreturn\u001b[0m \u001b[0mfunc\u001b[0m\u001b[1;33m(\u001b[0m\u001b[1;33m*\u001b[0m\u001b[0margs\u001b[0m\u001b[1;33m,\u001b[0m \u001b[1;33m**\u001b[0m\u001b[0mkwargs\u001b[0m\u001b[1;33m)\u001b[0m\u001b[1;33m\u001b[0m\u001b[1;33m\u001b[0m\u001b[0m\n\u001b[0m\u001b[0;32m    312\u001b[0m \u001b[1;33m\u001b[0m\u001b[0m\n\u001b[0;32m    313\u001b[0m         \u001b[1;32mreturn\u001b[0m \u001b[0mwrapper\u001b[0m\u001b[1;33m\u001b[0m\u001b[1;33m\u001b[0m\u001b[0m\n",
      "\u001b[1;32m~\\anaconda3\\lib\\site-packages\\pandas\\io\\parsers\\readers.py\u001b[0m in \u001b[0;36mread_csv\u001b[1;34m(filepath_or_buffer, sep, delimiter, header, names, index_col, usecols, squeeze, prefix, mangle_dupe_cols, dtype, engine, converters, true_values, false_values, skipinitialspace, skiprows, skipfooter, nrows, na_values, keep_default_na, na_filter, verbose, skip_blank_lines, parse_dates, infer_datetime_format, keep_date_col, date_parser, dayfirst, cache_dates, iterator, chunksize, compression, thousands, decimal, lineterminator, quotechar, quoting, doublequote, escapechar, comment, encoding, encoding_errors, dialect, error_bad_lines, warn_bad_lines, on_bad_lines, delim_whitespace, low_memory, memory_map, float_precision, storage_options)\u001b[0m\n\u001b[0;32m    676\u001b[0m     \u001b[0mkwds\u001b[0m\u001b[1;33m.\u001b[0m\u001b[0mupdate\u001b[0m\u001b[1;33m(\u001b[0m\u001b[0mkwds_defaults\u001b[0m\u001b[1;33m)\u001b[0m\u001b[1;33m\u001b[0m\u001b[1;33m\u001b[0m\u001b[0m\n\u001b[0;32m    677\u001b[0m \u001b[1;33m\u001b[0m\u001b[0m\n\u001b[1;32m--> 678\u001b[1;33m     \u001b[1;32mreturn\u001b[0m \u001b[0m_read\u001b[0m\u001b[1;33m(\u001b[0m\u001b[0mfilepath_or_buffer\u001b[0m\u001b[1;33m,\u001b[0m \u001b[0mkwds\u001b[0m\u001b[1;33m)\u001b[0m\u001b[1;33m\u001b[0m\u001b[1;33m\u001b[0m\u001b[0m\n\u001b[0m\u001b[0;32m    679\u001b[0m \u001b[1;33m\u001b[0m\u001b[0m\n\u001b[0;32m    680\u001b[0m \u001b[1;33m\u001b[0m\u001b[0m\n",
      "\u001b[1;32m~\\anaconda3\\lib\\site-packages\\pandas\\io\\parsers\\readers.py\u001b[0m in \u001b[0;36m_read\u001b[1;34m(filepath_or_buffer, kwds)\u001b[0m\n\u001b[0;32m    573\u001b[0m \u001b[1;33m\u001b[0m\u001b[0m\n\u001b[0;32m    574\u001b[0m     \u001b[1;31m# Create the parser.\u001b[0m\u001b[1;33m\u001b[0m\u001b[1;33m\u001b[0m\u001b[0m\n\u001b[1;32m--> 575\u001b[1;33m     \u001b[0mparser\u001b[0m \u001b[1;33m=\u001b[0m \u001b[0mTextFileReader\u001b[0m\u001b[1;33m(\u001b[0m\u001b[0mfilepath_or_buffer\u001b[0m\u001b[1;33m,\u001b[0m \u001b[1;33m**\u001b[0m\u001b[0mkwds\u001b[0m\u001b[1;33m)\u001b[0m\u001b[1;33m\u001b[0m\u001b[1;33m\u001b[0m\u001b[0m\n\u001b[0m\u001b[0;32m    576\u001b[0m \u001b[1;33m\u001b[0m\u001b[0m\n\u001b[0;32m    577\u001b[0m     \u001b[1;32mif\u001b[0m \u001b[0mchunksize\u001b[0m \u001b[1;32mor\u001b[0m \u001b[0miterator\u001b[0m\u001b[1;33m:\u001b[0m\u001b[1;33m\u001b[0m\u001b[1;33m\u001b[0m\u001b[0m\n",
      "\u001b[1;32m~\\anaconda3\\lib\\site-packages\\pandas\\io\\parsers\\readers.py\u001b[0m in \u001b[0;36m__init__\u001b[1;34m(self, f, engine, **kwds)\u001b[0m\n\u001b[0;32m    930\u001b[0m \u001b[1;33m\u001b[0m\u001b[0m\n\u001b[0;32m    931\u001b[0m         \u001b[0mself\u001b[0m\u001b[1;33m.\u001b[0m\u001b[0mhandles\u001b[0m\u001b[1;33m:\u001b[0m \u001b[0mIOHandles\u001b[0m \u001b[1;33m|\u001b[0m \u001b[1;32mNone\u001b[0m \u001b[1;33m=\u001b[0m \u001b[1;32mNone\u001b[0m\u001b[1;33m\u001b[0m\u001b[1;33m\u001b[0m\u001b[0m\n\u001b[1;32m--> 932\u001b[1;33m         \u001b[0mself\u001b[0m\u001b[1;33m.\u001b[0m\u001b[0m_engine\u001b[0m \u001b[1;33m=\u001b[0m \u001b[0mself\u001b[0m\u001b[1;33m.\u001b[0m\u001b[0m_make_engine\u001b[0m\u001b[1;33m(\u001b[0m\u001b[0mf\u001b[0m\u001b[1;33m,\u001b[0m \u001b[0mself\u001b[0m\u001b[1;33m.\u001b[0m\u001b[0mengine\u001b[0m\u001b[1;33m)\u001b[0m\u001b[1;33m\u001b[0m\u001b[1;33m\u001b[0m\u001b[0m\n\u001b[0m\u001b[0;32m    933\u001b[0m \u001b[1;33m\u001b[0m\u001b[0m\n\u001b[0;32m    934\u001b[0m     \u001b[1;32mdef\u001b[0m \u001b[0mclose\u001b[0m\u001b[1;33m(\u001b[0m\u001b[0mself\u001b[0m\u001b[1;33m)\u001b[0m\u001b[1;33m:\u001b[0m\u001b[1;33m\u001b[0m\u001b[1;33m\u001b[0m\u001b[0m\n",
      "\u001b[1;32m~\\anaconda3\\lib\\site-packages\\pandas\\io\\parsers\\readers.py\u001b[0m in \u001b[0;36m_make_engine\u001b[1;34m(self, f, engine)\u001b[0m\n\u001b[0;32m   1214\u001b[0m             \u001b[1;31m# \"Union[str, PathLike[str], ReadCsvBuffer[bytes], ReadCsvBuffer[str]]\"\u001b[0m\u001b[1;33m\u001b[0m\u001b[1;33m\u001b[0m\u001b[0m\n\u001b[0;32m   1215\u001b[0m             \u001b[1;31m# , \"str\", \"bool\", \"Any\", \"Any\", \"Any\", \"Any\", \"Any\"\u001b[0m\u001b[1;33m\u001b[0m\u001b[1;33m\u001b[0m\u001b[0m\n\u001b[1;32m-> 1216\u001b[1;33m             self.handles = get_handle(  # type: ignore[call-overload]\n\u001b[0m\u001b[0;32m   1217\u001b[0m                 \u001b[0mf\u001b[0m\u001b[1;33m,\u001b[0m\u001b[1;33m\u001b[0m\u001b[1;33m\u001b[0m\u001b[0m\n\u001b[0;32m   1218\u001b[0m                 \u001b[0mmode\u001b[0m\u001b[1;33m,\u001b[0m\u001b[1;33m\u001b[0m\u001b[1;33m\u001b[0m\u001b[0m\n",
      "\u001b[1;32m~\\anaconda3\\lib\\site-packages\\pandas\\io\\common.py\u001b[0m in \u001b[0;36mget_handle\u001b[1;34m(path_or_buf, mode, encoding, compression, memory_map, is_text, errors, storage_options)\u001b[0m\n\u001b[0;32m    784\u001b[0m         \u001b[1;32mif\u001b[0m \u001b[0mioargs\u001b[0m\u001b[1;33m.\u001b[0m\u001b[0mencoding\u001b[0m \u001b[1;32mand\u001b[0m \u001b[1;34m\"b\"\u001b[0m \u001b[1;32mnot\u001b[0m \u001b[1;32min\u001b[0m \u001b[0mioargs\u001b[0m\u001b[1;33m.\u001b[0m\u001b[0mmode\u001b[0m\u001b[1;33m:\u001b[0m\u001b[1;33m\u001b[0m\u001b[1;33m\u001b[0m\u001b[0m\n\u001b[0;32m    785\u001b[0m             \u001b[1;31m# Encoding\u001b[0m\u001b[1;33m\u001b[0m\u001b[1;33m\u001b[0m\u001b[0m\n\u001b[1;32m--> 786\u001b[1;33m             handle = open(\n\u001b[0m\u001b[0;32m    787\u001b[0m                 \u001b[0mhandle\u001b[0m\u001b[1;33m,\u001b[0m\u001b[1;33m\u001b[0m\u001b[1;33m\u001b[0m\u001b[0m\n\u001b[0;32m    788\u001b[0m                 \u001b[0mioargs\u001b[0m\u001b[1;33m.\u001b[0m\u001b[0mmode\u001b[0m\u001b[1;33m,\u001b[0m\u001b[1;33m\u001b[0m\u001b[1;33m\u001b[0m\u001b[0m\n",
      "\u001b[1;31mFileNotFoundError\u001b[0m: [Errno 2] No such file or directory: 'Datafiniti_Amazon_Consumer_Reviews_of_Amazon_Products.csv'"
     ]
    }
   ],
   "source": [
    "oldDt=pd.read_csv(\"Datafiniti_Amazon_Consumer_Reviews_of_Amazon_Products.csv\")\n",
    "oldDt.head(5)"
   ]
  },
  {
   "cell_type": "code",
   "execution_count": null,
   "id": "9d0ca880",
   "metadata": {},
   "outputs": [],
   "source": [
    "products={\n",
    "    'B00IOY8XWQ':'Kindle Voyage 4GB Wifi',\n",
    "    'B00IOYAM4I':'Kindle Voyage 4GB Wifi+Cellular',\n",
    "    'B00QFQRELG':'Powerfast Charger',\n",
    "    'B00REQKWGA':'Kindle + Charging Cover Wifi',\n",
    "    'B00VINDBJK':'Kindle + Charging Cover Wifi',\n",
    "    'B00ZV9PXP2':'Kindle 8 Wifi',\n",
    "    'B010CEHQTG':'Bluetooth Speaker',\n",
    "    'B017JG41PC':'Kindle Wifi',\n",
    "    'B0189XYY0Q':'Tablet 10 Wifi 8GB',\n",
    "    'B018Y224PY':'Tablet with Alexa 16GB',\n",
    "    'B018Y225IA':'Kindle 16GB Wifi',\n",
    "    'B018Y22BI4':'Tablet Wifi 16gb',\n",
    "    'B018Y22C2Y':'Kids Tablet',\n",
    "    'B018Y23MNM':'Kids Tablet',\n",
    "    'B01ACEKAJY':'Tablet 8 Wifi 32GB',\n",
    "    'B01AHB9CN2':'Tablet 8 Wifi 16GB',\n",
    "    'B01AHB9C1E':'Tablet with Alexa 32GB',\n",
    "    'B01AHB9CYG':'TV',\n",
    "    'B01AHBBG04':'Tablet 8 Wifi 16GB',\n",
    "    'B01AHBDCKQ':'Tablet 8 Wifi 32GB',\n",
    "    'B01BH83OOM':'Bluetooth Speaker',\n",
    "    'B01J24C0TI':'Bluetooth Speaker',\n",
    "    'B01N32NCPM':'TV',\n",
    "    'B06XB29FPF':'Echo-Plus'\n",
    "}\n",
    "oldDt.asins=oldDt.asins.replace(products)\n",
    "oldDt.head()\n",
    "    "
   ]
  },
  {
   "cell_type": "code",
   "execution_count": null,
   "id": "8bb283bb",
   "metadata": {},
   "outputs": [],
   "source": [
    "dt = oldDt[['reviews.username','asins','reviews.rating']]\n",
    "dt"
   ]
  },
  {
   "cell_type": "code",
   "execution_count": null,
   "id": "5ab22f7c",
   "metadata": {
    "scrolled": true
   },
   "outputs": [],
   "source": [
    "dt.info()"
   ]
  },
  {
   "cell_type": "code",
   "execution_count": null,
   "id": "f9978d3b",
   "metadata": {},
   "outputs": [],
   "source": [
    "dt.shape"
   ]
  },
  {
   "cell_type": "code",
   "execution_count": null,
   "id": "084474ad",
   "metadata": {},
   "outputs": [],
   "source": [
    "print('Lowest rating is: %d' %(dt['reviews.rating'].min()))\n",
    "print('Highest rating is: %d' %(dt['reviews.rating'].max()))"
   ]
  },
  {
   "cell_type": "code",
   "execution_count": null,
   "id": "39224fdc",
   "metadata": {},
   "outputs": [],
   "source": [
    "dt.isnull().sum()"
   ]
  },
  {
   "cell_type": "code",
   "execution_count": null,
   "id": "37e6dfc0",
   "metadata": {},
   "outputs": [],
   "source": [
    "with sns.axes_style('white'):\n",
    "    g = sns.catplot(x=\"reviews.rating\", data=dt, aspect=2.0, kind='count')\n",
    "    g.set_axis_labels(\"Ratings\", \"Total number of ratings\")"
   ]
  },
  {
   "cell_type": "markdown",
   "id": "a1d805b0",
   "metadata": {},
   "source": [
    "We can see here that the products get mostly 5 ratings"
   ]
  },
  {
   "cell_type": "code",
   "execution_count": null,
   "id": "6f83dceb",
   "metadata": {},
   "outputs": [],
   "source": [
    "# Number of unique user id  in the data\n",
    "print('Number of unique users in Raw data = ', dt['reviews.username'].nunique())\n",
    "# Number of unique product id  in the data\n",
    "print('Number of unique product in Raw data = ', dt['asins'].nunique())"
   ]
  },
  {
   "cell_type": "code",
   "execution_count": null,
   "id": "2e3dd39f",
   "metadata": {},
   "outputs": [],
   "source": [
    "unique_products = dt['asins'].unique()\n",
    "print(unique_products)"
   ]
  },
  {
   "cell_type": "code",
   "execution_count": null,
   "id": "d4397c60",
   "metadata": {
    "scrolled": true
   },
   "outputs": [],
   "source": [
    "most_rated=dt.groupby('reviews.username').size().sort_values(ascending=False)[:10]\n",
    "print('Top 10 users based on ratings: \\n',most_rated)"
   ]
  },
  {
   "cell_type": "code",
   "execution_count": null,
   "id": "e77f1476",
   "metadata": {},
   "outputs": [],
   "source": [
    "counts=dt['reviews.username'].value_counts()\n",
    "dt1=dt[dt['reviews.username'].isin(counts[counts>5].index)]\n",
    "dt1"
   ]
  },
  {
   "cell_type": "code",
   "execution_count": null,
   "id": "5d7c86d5",
   "metadata": {},
   "outputs": [],
   "source": [
    "dt1.describe(include='object')"
   ]
  },
  {
   "cell_type": "code",
   "execution_count": null,
   "id": "38585d64",
   "metadata": {},
   "outputs": [],
   "source": [
    "print('Number of users who have rated 3 or more items =', len(dt1))\n",
    "print('Number of unique users in the final data = ', dt1['reviews.username'].nunique())\n",
    "print('Number of unique products in the final data = ', dt1['asins'].nunique())"
   ]
  },
  {
   "cell_type": "code",
   "execution_count": null,
   "id": "09153786",
   "metadata": {},
   "outputs": [],
   "source": [
    "dt1_agg = dt1.groupby(['reviews.username', 'asins'])['reviews.rating'].mean().unstack(fill_value=0)\n",
    "dt1_agg = dt1_agg.round(decimals=1)  # Round to 1 decimal places\n",
    "\n",
    "userRates= dt1_agg.rename_axis(None, axis=1)\n",
    "userRates.shape"
   ]
  },
  {
   "cell_type": "code",
   "execution_count": null,
   "id": "61a21b9e",
   "metadata": {},
   "outputs": [],
   "source": [
    "userRates"
   ]
  },
  {
   "cell_type": "code",
   "execution_count": null,
   "id": "41672d53",
   "metadata": {},
   "outputs": [],
   "source": [
    "#Split the data randomnly into train and test datasets into 70:30 ratio\n",
    "trainDt, testDt = train_test_split(dt1, test_size = 0.3, random_state=0)\n",
    "trainDt.head()\n",
    "testDt.head()"
   ]
  },
  {
   "cell_type": "code",
   "execution_count": null,
   "id": "352a104c",
   "metadata": {},
   "outputs": [],
   "source": [
    "print('Shape of training data: ',trainDt.shape)\n",
    "print('Shape of testing data: ',testDt.shape)"
   ]
  },
  {
   "cell_type": "code",
   "execution_count": null,
   "id": "7582afa0",
   "metadata": {},
   "outputs": [],
   "source": [
    "#Count of user_id for each unique product as recommendation score \n",
    "trainDt_grouped = trainDt.groupby('asins').agg({'reviews.username': 'count'}).reset_index()\n",
    "trainDt_grouped.rename(columns = {'reviews.username': 'score'},inplace=True)\n",
    "trainDt_grouped=trainDt_grouped.sort_values(by='score',ascending=False)\n",
    "trainDt_grouped.shape\n",
    "trainDt_grouped"
   ]
  },
  {
   "cell_type": "code",
   "execution_count": null,
   "id": "754d7233",
   "metadata": {},
   "outputs": [],
   "source": [
    "#Sort the products on recommendation score \n",
    "trainDt_sort = trainDt_grouped.sort_values(['score', 'asins'], ascending = [0,1]) \n",
    "      \n",
    "#Generate a recommendation rank based upon score \n",
    "trainDt_sort['rank'] = trainDt_sort['score'].rank(ascending=0, method='first') \n",
    "          \n",
    "#Get the top 10 recommendations \n",
    "popRec= trainDt_sort.head() \n",
    "popRec"
   ]
  },
  {
   "cell_type": "markdown",
   "id": "33cef9ca",
   "metadata": {},
   "source": [
    "the product ranked first is the most popular product."
   ]
  },
  {
   "cell_type": "code",
   "execution_count": null,
   "id": "7d24c84e",
   "metadata": {},
   "outputs": [],
   "source": [
    "# Use popularity based recommender model to make predictions\n",
    "def recommend(user_id):     \n",
    "    userRec = popRec\n",
    "    \n",
    "    #Add user_id column for which the recommendations are being generated \n",
    "    userRec['userID'] =user_id  \n",
    "    \n",
    "    #Bring user_id column to the front \n",
    "    cols = userRec.columns.tolist() \n",
    "    cols = cols[-1:] + cols[:-1] \n",
    "    userRec = userRec[cols] \n",
    "          \n",
    "    return userRec"
   ]
  },
  {
   "cell_type": "code",
   "execution_count": null,
   "id": "3579ba79",
   "metadata": {},
   "outputs": [],
   "source": [
    "find_recom = [10,100,150]   # This list is user choice.\n",
    "for i in find_recom:\n",
    "    print(\"The list of recommendations for the userId: %d\\n\" %(i))\n",
    "    print(recommend(i))    \n",
    "    print(\"\\n\") "
   ]
  },
  {
   "cell_type": "markdown",
   "id": "ec3dd064",
   "metadata": {},
   "source": [
    "Since, it is a Popularity recommender model, so, all the three users are given the same recommendations. Here, we predict the products based on the popularity. It is not personalized to particular user. It is a non-personalized recommender system."
   ]
  },
  {
   "cell_type": "markdown",
   "id": "37102763",
   "metadata": {},
   "source": [
    "#### collaborative filtering"
   ]
  },
  {
   "cell_type": "code",
   "execution_count": null,
   "id": "6cd0a9d2",
   "metadata": {},
   "outputs": [],
   "source": [
    "dt_CF = pd.concat([trainDt, testDt]).reset_index()\n",
    "dt_CF.head()"
   ]
  },
  {
   "cell_type": "code",
   "execution_count": null,
   "id": "5eab69d0",
   "metadata": {
    "scrolled": true
   },
   "outputs": [],
   "source": [
    "import pandas as pd\n",
    "\n",
    "pivotDt = round(pd.pivot_table(dt_CF, index='reviews.username', columns='asins', values='reviews.rating', fill_value=0),1)\n",
    "pivotDt\n"
   ]
  },
  {
   "cell_type": "code",
   "execution_count": null,
   "id": "87b062ab",
   "metadata": {},
   "outputs": [],
   "source": [
    "pivotDt.shape"
   ]
  },
  {
   "cell_type": "code",
   "execution_count": null,
   "id": "28b780e1",
   "metadata": {},
   "outputs": [],
   "source": [
    "#define user index from 0 to 10\n",
    "pivotDt['user_index'] = np.arange(0, pivotDt.shape[0], 1)\n",
    "pivotDt"
   ]
  },
  {
   "cell_type": "code",
   "execution_count": null,
   "id": "9f340543",
   "metadata": {
    "scrolled": true
   },
   "outputs": [],
   "source": [
    "pivotDt.set_index(['user_index'], inplace=True)\n",
    "\n",
    "# Actual ratings given by users\n",
    "pivotDt"
   ]
  },
  {
   "cell_type": "code",
   "execution_count": null,
   "id": "8d32f6be",
   "metadata": {
    "scrolled": true
   },
   "outputs": [],
   "source": [
    "import scipy.sparse as sp\n",
    "\n",
    "is_sparse = sp.issparse(pivotDt)\n",
    "\n",
    "if is_sparse:\n",
    "    print(\"The DataFrame is a sparse matrix.\")\n",
    "else:\n",
    "    print(\"The DataFrame is not a sparse matrix.\")"
   ]
  },
  {
   "cell_type": "markdown",
   "id": "8444bd2b",
   "metadata": {},
   "source": [
    "##### sparse matrix=number of zero in data frame is 2/3 more than number of nonzeros. Since it is not a sparse matrix, svd (singular value decomposition will be applied using numpy library."
   ]
  },
  {
   "cell_type": "code",
   "execution_count": null,
   "id": "73d49bfb",
   "metadata": {},
   "outputs": [],
   "source": [
    "# Convert DataFrame to NumPy array\n",
    "pvArray = pivotDt.values\n",
    "\n",
    "# Perform singular value decomposition (a factorization of a real or complex matrix)\n",
    "U, sigma, Vt = np.linalg.svd(pvArray, full_matrices=False)"
   ]
  },
  {
   "cell_type": "code",
   "execution_count": null,
   "id": "caef5f73",
   "metadata": {},
   "outputs": [],
   "source": [
    "print('Left singular matrix: \\n',U)"
   ]
  },
  {
   "cell_type": "code",
   "execution_count": null,
   "id": "75d8acc1",
   "metadata": {
    "scrolled": true
   },
   "outputs": [],
   "source": [
    "print('Sigma: \\n', sigma)"
   ]
  },
  {
   "cell_type": "code",
   "execution_count": null,
   "id": "c870ea6e",
   "metadata": {},
   "outputs": [],
   "source": [
    "sigma = np.diag(sigma)\n",
    "print('Diagonal matrix: \\n',sigma)"
   ]
  },
  {
   "cell_type": "code",
   "execution_count": null,
   "id": "8aa2ea42",
   "metadata": {},
   "outputs": [],
   "source": [
    "print('Right singular matrix: \\n',Vt)"
   ]
  },
  {
   "cell_type": "code",
   "execution_count": null,
   "id": "4e6cb606",
   "metadata": {},
   "outputs": [],
   "source": [
    "#Predicted ratings\n",
    "predict_all = np.dot(np.dot(U, sigma), Vt)  #The dot product of these matrices approximates the original ratings matrix\n",
    "\n",
    "# Convert predicted ratings to dataframe\n",
    "predsDt = pd.DataFrame(predict_all, columns = pivotDt.columns)\n",
    "predsDt.head()"
   ]
  },
  {
   "cell_type": "code",
   "execution_count": null,
   "id": "38c418ed",
   "metadata": {},
   "outputs": [],
   "source": [
    "# Recommend the items with the highest predicted ratings\n",
    "\n",
    "def recommend_items(userID, pivotDt, predsDt, num_recommendations):\n",
    "    # index starts at 0  \n",
    "    user_idx = userID-1 \n",
    "    \n",
    "    # Get and sort the user's ratings\n",
    "    sorted_user_ratings = pivotDt.iloc[user_idx].sort_values(ascending=False)\n",
    "    \n",
    "    #sorted_user_ratings\n",
    "    sorted_user_predictions = predsDt.iloc[user_idx].sort_values(ascending=False)\n",
    "    \n",
    "    #sorted_user_predictions\n",
    "    temp = pd.concat([sorted_user_ratings, sorted_user_predictions], axis=1)\n",
    "    temp.index.name = 'Recommended Items'\n",
    "    temp.columns = ['user_ratings', 'user_predictions']\n",
    "    temp = temp.loc[temp.user_ratings == 0]   \n",
    "    temp = temp.sort_values('user_predictions', ascending=False)\n",
    "    \n",
    "    print('\\nBelow are the recommended items for user(user_id = {}):\\n'.format(userID))\n",
    "    print(temp.head(num_recommendations))"
   ]
  },
  {
   "cell_type": "markdown",
   "id": "65c0cdc3",
   "metadata": {},
   "source": [
    "userID = 7\n",
    "num_recommendations = 5\n",
    "recommend_items(userID, pivotDt, predsDt, num_recommendations)   "
   ]
  },
  {
   "cell_type": "markdown",
   "id": "4aedcd3a",
   "metadata": {},
   "source": [
    "userID = 8\n",
    "num_recommendations = 5\n",
    "recommend_items(userID, pivotDt, predsDt, num_recommendations)   "
   ]
  },
  {
   "cell_type": "code",
   "execution_count": null,
   "id": "ca1276a7",
   "metadata": {},
   "outputs": [],
   "source": [
    "userRates.head()"
   ]
  },
  {
   "cell_type": "code",
   "execution_count": null,
   "id": "c1934f6f",
   "metadata": {
    "scrolled": true
   },
   "outputs": [],
   "source": [
    "predsDt.head()"
   ]
  },
  {
   "cell_type": "code",
   "execution_count": null,
   "id": "420549e0",
   "metadata": {},
   "outputs": [],
   "source": [
    "meanRate=userRates.mean()"
   ]
  },
  {
   "cell_type": "code",
   "execution_count": null,
   "id": "5d78ada3",
   "metadata": {
    "scrolled": true
   },
   "outputs": [],
   "source": [
    "meanPred=predsDt.mean()"
   ]
  },
  {
   "cell_type": "code",
   "execution_count": null,
   "id": "8d1cc10b",
   "metadata": {},
   "outputs": [],
   "source": [
    "rmse_df = pd.concat([meanRate, meanPred], axis=1)\n",
    "rmse_df.columns = ['Avg_actual_ratings', 'Avg_predicted_ratings']\n",
    "print(rmse_df.shape)\n",
    "\n",
    "rmse_df['item_index'] = np.arange(0, rmse_df.shape[0], 1)\n",
    "rmse_df"
   ]
  },
  {
   "cell_type": "code",
   "execution_count": null,
   "id": "16393bf1",
   "metadata": {},
   "outputs": [],
   "source": [
    "#RMSE=Root Mean Square Error (measure differences between values predicted by a model or an estimator )\n",
    "from IPython.display import Image\n",
    "Image(\"RMSE1.jpg\")"
   ]
  },
  {
   "cell_type": "code",
   "execution_count": null,
   "id": "ff12f379",
   "metadata": {},
   "outputs": [],
   "source": [
    "#apply formula\n",
    "RMSE = round((((rmse_df.Avg_predicted_ratings - rmse_df.Avg_actual_ratings) ** 2).mean()) ** 0.5, 2)\n",
    "print('\\nRMSE SVD Model = {} \\n'.format(RMSE))"
   ]
  },
  {
   "cell_type": "markdown",
   "id": "dac6bdd5",
   "metadata": {},
   "source": [
    "## GUI\n",
    "\n"
   ]
  },
  {
   "cell_type": "code",
   "execution_count": null,
   "id": "f6c2e83c",
   "metadata": {},
   "outputs": [],
   "source": [
    "import pandas as pd\n",
    "import tkinter as tk\n",
    "\n",
    "# Function to handle the button click event\n",
    "def recommend_products():\n",
    "    # Get user input values\n",
    "    user_id = int(user_id_var.get())\n",
    "    num_recommendations = num_recommendations_input.get()\n",
    "    \n",
    "    # Perform product recommendation logic\n",
    "    # Replace this with your actual recommendation algorithm\n",
    "    recommended_items = recommend_items(user_id, pivotDt, predsDt, num_recommendations)\n",
    "    \n",
    "    # Display the recommended products\n",
    "    output_text.configure(state='normal')\n",
    "    output_text.delete('1.0', tk.END)\n",
    "    output_text.insert(tk.END, recommended_items)\n",
    "    output_text.configure(state='disabled')\n",
    "    output_text.tag_configure('center', justify='center')\n",
    "    output_text.tag_add('center', '1.0', 'end')\n",
    "\n",
    "# Function for product recommendation\n",
    "def recommend_items(userID, pivotDt, predsDt, num_recommendations):\n",
    "    user_idx = userID - 1\n",
    "    sorted_user_ratings = pivotDt.iloc[user_idx].sort_values(ascending=False)\n",
    "    sorted_user_predictions = predsDt.iloc[user_idx].sort_values(ascending=False)\n",
    "    temp = pd.concat([sorted_user_ratings, sorted_user_predictions], axis=1)\n",
    "    temp.index.name = 'Recommended Items'\n",
    "    temp.columns = ['user_ratings', 'user_predictions']\n",
    "    temp = temp.loc[temp.user_ratings == 0]\n",
    "    temp = temp.sort_values('user_predictions', ascending=False)\n",
    "    return temp.head(num_recommendations).to_string()\n",
    "\n",
    "# Create the main window\n",
    "window = tk.Tk()\n",
    "window.title(\"Product Recommendation\")\n",
    "window.configure(bg=\"PeachPuff4\")\n",
    "\n",
    "# Load your data and define pivotDt and predsDt here\n",
    "\n",
    "# Create main title widget\n",
    "main_title_label = tk.Label(window, text='Product Recommendation', font=('Cooper Black', 16), bg='PeachPuff4', fg=\"beige\")\n",
    "\n",
    "# Create input widgets\n",
    "user_id_label = tk.Label(window, text='User ID:', bg=\"PeachPuff4\", fg=\"beige\")\n",
    "user_id_var = tk.StringVar(window)\n",
    "user_id_var.set('1')  # Set initial value\n",
    "user_id_input = tk.OptionMenu(window, user_id_var, *[str(i) for i in range(1, 33)], command=lambda x: user_id_var.set(x))\n",
    "num_recommendations_label = tk.Label(window, text='Number of Recommendations:', bg=\"PeachPuff4\", fg=\"beige\")\n",
    "num_recommendations_input = tk.Scale(window, from_=1, to=10, orient=tk.HORIZONTAL, bg=\"seashell2\")\n",
    "button = tk.Button(window, text='Recommend', command=recommend_products, font=('Segoe Script', 9), bg=\"beige\")\n",
    "\n",
    "# Create output widget\n",
    "output_text = tk.Text(window, height=20, width=70, font=('Times', 11), fg='gray', bg=\"seashell2\")\n",
    "output_text.configure(state='disabled')\n",
    "\n",
    "# Pack the widgets\n",
    "main_title_label.pack(pady=10)\n",
    "user_id_label.pack()\n",
    "user_id_input.pack(pady=10)\n",
    "num_recommendations_label.pack()\n",
    "num_recommendations_input.pack(pady=10)\n",
    "button.pack(pady=7)\n",
    "output_text.pack(expand=True, fill=tk.BOTH)  # Expand the output box to fill available space\n",
    "\n",
    "# Auto-fit window to its contents\n",
    "window.update()\n",
    "window_width = window.winfo_width()\n",
    "window_height = window.winfo_height()\n",
    "window.minsize(window_width, window_height)\n",
    "\n",
    "# Start the main loop\n",
    "window.mainloop()"
   ]
  }
 ],
 "metadata": {
  "kernelspec": {
   "display_name": "Python 3 (ipykernel)",
   "language": "python",
   "name": "python3"
  },
  "language_info": {
   "codemirror_mode": {
    "name": "ipython",
    "version": 3
   },
   "file_extension": ".py",
   "mimetype": "text/x-python",
   "name": "python",
   "nbconvert_exporter": "python",
   "pygments_lexer": "ipython3",
   "version": "3.9.13"
  }
 },
 "nbformat": 4,
 "nbformat_minor": 5
}
